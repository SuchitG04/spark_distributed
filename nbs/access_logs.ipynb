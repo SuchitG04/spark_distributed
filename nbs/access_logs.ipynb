{
 "cells": [
  {
   "cell_type": "code",
   "execution_count": 1,
   "id": "871991a4-2d2f-433d-b848-9b15d36602d6",
   "metadata": {
    "scrolled": true
   },
   "outputs": [],
   "source": [
    "# ! pip install kaggle\n",
    "# ! kaggle datasets download -d eliasdabbas/web-server-access-logs\n",
    "# ! unzip web-server-access-logs.zip\n",
    "# ! rm web-server-access-logs.zip"
   ]
  },
  {
   "cell_type": "code",
   "execution_count": 2,
   "id": "6862144c-8428-418a-a6f3-ff5da589f0b6",
   "metadata": {},
   "outputs": [
    {
     "name": "stderr",
     "output_type": "stream",
     "text": [
      "Setting default log level to \"WARN\".\n",
      "To adjust logging level use sc.setLogLevel(newLevel). For SparkR, use setLogLevel(newLevel).\n",
      "24/07/27 07:56:15 WARN NativeCodeLoader: Unable to load native-hadoop library for your platform... using builtin-java classes where applicable\n"
     ]
    }
   ],
   "source": [
    "from pyspark.sql import SparkSession\n",
    "\n",
    "spark = SparkSession.builder \\\n",
    ".master(\"spark://spark-master:7077\") \\\n",
    ".config(\"spark.executor.memory\", \"2g\") \\\n",
    ".config(\"spark.executor.instances\", \"6\") \\\n",
    ".config(\"spark.executor.cores\", \"2\") \\\n",
    ".config(\"spark.driver.memory\", \"4g\") \\\n",
    ".getOrCreate()"
   ]
  },
  {
   "cell_type": "code",
   "execution_count": 3,
   "id": "14e32f43-8bcd-4e6f-9806-e190e5597270",
   "metadata": {},
   "outputs": [],
   "source": [
    "spark.sparkContext.setLogLevel(\"ERROR\")"
   ]
  },
  {
   "cell_type": "code",
   "execution_count": 4,
   "id": "fb768fe5-1d49-4bfe-970d-57a41f547f1b",
   "metadata": {},
   "outputs": [],
   "source": [
    "from pyspark.sql.functions import regexp_extract, col, to_timestamp\n",
    "from pyspark.sql.types import LongType\n",
    "\n",
    "import re\n",
    "import os\n",
    "import time\n",
    "from tqdm import tqdm"
   ]
  },
  {
   "cell_type": "code",
   "execution_count": 5,
   "id": "c9f68231-631b-49ce-966e-7ac1f351afa3",
   "metadata": {},
   "outputs": [],
   "source": [
    "log_file_path = \"/opt/workspace/access_logs/access.log\"\n",
    "\n",
    "combined_regex = r'^(\\S+) \\S+ (\\S+) \\[([^\\]]+)\\] \"([A-Z]+) ([^ \"]+)? HTTP/[0-9.]+\" ([0-9]{3}) ([0-9]+|-) \"([^\"]*)\" \"([^\"]*)'\n",
    "columns = ['client', 'userid', 'datetime', 'method', 'request', 'status', 'size', 'referer', 'user_agent']"
   ]
  },
  {
   "cell_type": "code",
   "execution_count": 6,
   "id": "846d0302-6d61-4fdf-ae5d-0fc8529cda10",
   "metadata": {},
   "outputs": [],
   "source": [
    "web_logs = spark.read.text(log_file_path)"
   ]
  },
  {
   "cell_type": "code",
   "execution_count": 7,
   "id": "5389bee5-369f-473d-9549-4aae00b7a8b1",
   "metadata": {},
   "outputs": [],
   "source": [
    "web_logs_raw = web_logs.select(\n",
    "    regexp_extract(\"value\", combined_regex, 1).alias(columns[0]),\n",
    "    regexp_extract(\"value\", combined_regex, 2).alias(columns[1]),\n",
    "    regexp_extract(\"value\", combined_regex, 3).alias(columns[2]),\n",
    "    regexp_extract(\"value\", combined_regex, 4).alias(columns[3]),\n",
    "    regexp_extract(\"value\", combined_regex, 5).alias(columns[4]),\n",
    "    regexp_extract(\"value\", combined_regex, 6).alias(columns[5]),\n",
    "    regexp_extract(\"value\", combined_regex, 7).alias(columns[6]),\n",
    "    regexp_extract(\"value\", combined_regex, 8).alias(columns[7]),\n",
    "    regexp_extract(\"value\", combined_regex, 9).alias(columns[8]),\n",
    ")"
   ]
  },
  {
   "cell_type": "code",
   "execution_count": 8,
   "id": "855e9118-2cf9-4087-892a-b55816a52b38",
   "metadata": {},
   "outputs": [
    {
     "name": "stderr",
     "output_type": "stream",
     "text": [
      "                                                                                \r"
     ]
    },
    {
     "name": "stdout",
     "output_type": "stream",
     "text": [
      "+-------------+------+--------------------+------+--------------------+------+-----+--------------------+--------------------+\n",
      "|       client|userid|            datetime|method|             request|status| size|             referer|          user_agent|\n",
      "+-------------+------+--------------------+------+--------------------+------+-----+--------------------+--------------------+\n",
      "| 54.36.149.41|     -|22/Jan/2019:03:56...|   GET|/filter/27|13%20%...|   200|30577|                   -|Mozilla/5.0 (comp...|\n",
      "|  31.56.96.51|     -|22/Jan/2019:03:56...|   GET|/image/60844/prod...|   200| 5667|https://www.zanbi...|Mozilla/5.0 (Linu...|\n",
      "|  31.56.96.51|     -|22/Jan/2019:03:56...|   GET|/image/61474/prod...|   200| 5379|https://www.zanbi...|Mozilla/5.0 (Linu...|\n",
      "|40.77.167.129|     -|22/Jan/2019:03:56...|   GET|/image/14925/prod...|   200| 1696|                   -|Mozilla/5.0 (comp...|\n",
      "|  91.99.72.15|     -|22/Jan/2019:03:56...|   GET|/product/31893/62...|   200|41483|                   -|Mozilla/5.0 (Wind...|\n",
      "|40.77.167.129|     -|22/Jan/2019:03:56...|   GET|/image/23488/prod...|   200| 2654|                   -|Mozilla/5.0 (comp...|\n",
      "|40.77.167.129|     -|22/Jan/2019:03:56...|   GET|/image/45437/prod...|   200| 3688|                   -|Mozilla/5.0 (comp...|\n",
      "|40.77.167.129|     -|22/Jan/2019:03:56...|   GET|/image/576/articl...|   200|14776|                   -|Mozilla/5.0 (comp...|\n",
      "|66.249.66.194|     -|22/Jan/2019:03:56...|   GET|/filter/b41,b665,...|   200|34277|                   -|Mozilla/5.0 (comp...|\n",
      "|40.77.167.129|     -|22/Jan/2019:03:56...|   GET|/image/57710/prod...|   200| 1695|                   -|Mozilla/5.0 (comp...|\n",
      "|207.46.13.136|     -|22/Jan/2019:03:56...|   GET|      /product/10214|   200|39677|                   -|Mozilla/5.0 (comp...|\n",
      "|40.77.167.129|     -|22/Jan/2019:03:56...|   GET|/image/578/articl...|   200| 9831|                   -|Mozilla/5.0 (comp...|\n",
      "|178.253.33.51|     -|22/Jan/2019:03:56...|   GET|/m/product/32574/...|   200|20406|https://www.zanbi...|Mozilla/5.0 (Linu...|\n",
      "|40.77.167.129|     -|22/Jan/2019:03:56...|   GET|/image/6229/produ...|   200| 1796|                   -|Mozilla/5.0 (comp...|\n",
      "|  91.99.72.15|     -|22/Jan/2019:03:56...|   GET|/product/10075/13...|   200|41725|                   -|Mozilla/5.0 (X11;...|\n",
      "|40.77.167.129|     -|22/Jan/2019:03:56...|   GET|/image/6229/produ...|   200| 2739|                   -|Mozilla/5.0 (comp...|\n",
      "|207.46.13.136|     -|22/Jan/2019:03:56...|   GET|      /product/14926|   404|33617|                   -|Mozilla/5.0 (comp...|\n",
      "|40.77.167.129|     -|22/Jan/2019:03:56...|   GET|/image/6248/produ...|   200| 2788|                   -|Mozilla/5.0 (comp...|\n",
      "|40.77.167.129|     -|22/Jan/2019:03:56...|   GET|/image/64815/prod...|   200| 3481|                   -|Mozilla/5.0 (comp...|\n",
      "|66.249.66.194|     -|22/Jan/2019:03:56...|   GET|     /m/filter/b2,p6|   200|19451|                   -|Mozilla/5.0 (Linu...|\n",
      "+-------------+------+--------------------+------+--------------------+------+-----+--------------------+--------------------+\n",
      "only showing top 20 rows\n",
      "\n"
     ]
    }
   ],
   "source": [
    "web_logs_raw.show()"
   ]
  },
  {
   "cell_type": "code",
   "execution_count": 9,
   "id": "29af1ed6-5a3b-4cf7-81e0-28b1612c3de5",
   "metadata": {
    "scrolled": true
   },
   "outputs": [
    {
     "name": "stderr",
     "output_type": "stream",
     "text": [
      "                                                                                \r"
     ]
    },
    {
     "data": {
      "text/plain": [
       "10365152"
      ]
     },
     "execution_count": 9,
     "metadata": {},
     "output_type": "execute_result"
    }
   ],
   "source": [
    "web_logs_raw.count()"
   ]
  },
  {
   "cell_type": "code",
   "execution_count": 10,
   "id": "a0bc3e4a-d267-4498-b1f1-3db7c050b205",
   "metadata": {},
   "outputs": [],
   "source": [
    "condition = col(columns[0]) == ''\n",
    "for column in columns[1:]:\n",
    "    condition &= col(column) == ''"
   ]
  },
  {
   "cell_type": "code",
   "execution_count": 11,
   "id": "f63e9213-d215-4be0-8af2-095dfbd7ed0a",
   "metadata": {},
   "outputs": [
    {
     "name": "stderr",
     "output_type": "stream",
     "text": [
      "                                                                                \r"
     ]
    },
    {
     "data": {
      "text/plain": [
       "287"
      ]
     },
     "execution_count": 11,
     "metadata": {},
     "output_type": "execute_result"
    }
   ],
   "source": [
    "web_logs_raw.filter(condition).count()"
   ]
  },
  {
   "cell_type": "code",
   "execution_count": 12,
   "id": "451e3289-998f-47ee-9897-12bde3be344d",
   "metadata": {},
   "outputs": [],
   "source": [
    "web_logs_df =  web_logs_raw.filter(~condition)"
   ]
  },
  {
   "cell_type": "code",
   "execution_count": 13,
   "id": "d841738d-314a-46f5-8c12-3a8c7c5791cc",
   "metadata": {},
   "outputs": [
    {
     "name": "stderr",
     "output_type": "stream",
     "text": [
      "                                                                                \r"
     ]
    },
    {
     "data": {
      "text/plain": [
       "10364865"
      ]
     },
     "execution_count": 13,
     "metadata": {},
     "output_type": "execute_result"
    }
   ],
   "source": [
    "web_logs_df.count()"
   ]
  },
  {
   "cell_type": "code",
   "execution_count": 14,
   "id": "76de9a1f-2bb4-45f7-a38b-08763797efe0",
   "metadata": {},
   "outputs": [
    {
     "name": "stdout",
     "output_type": "stream",
     "text": [
      "+--------------------------+\n",
      "|datetime                  |\n",
      "+--------------------------+\n",
      "|22/Jan/2019:03:56:14 +0330|\n",
      "+--------------------------+\n",
      "\n"
     ]
    }
   ],
   "source": [
    "web_logs_df.select(\"datetime\").filter(\"client = '54.36.149.41'\").limit(1).show(truncate=False)"
   ]
  },
  {
   "cell_type": "code",
   "execution_count": 15,
   "id": "19717988-2da9-4433-a9a3-c1729d9f386d",
   "metadata": {},
   "outputs": [
    {
     "name": "stdout",
     "output_type": "stream",
     "text": [
      "root\n",
      " |-- client: string (nullable = true)\n",
      " |-- userid: string (nullable = true)\n",
      " |-- datetime: string (nullable = true)\n",
      " |-- method: string (nullable = true)\n",
      " |-- request: string (nullable = true)\n",
      " |-- status: string (nullable = true)\n",
      " |-- size: string (nullable = true)\n",
      " |-- referer: string (nullable = true)\n",
      " |-- user_agent: string (nullable = true)\n",
      "\n"
     ]
    }
   ],
   "source": [
    "web_logs_df.printSchema()"
   ]
  },
  {
   "cell_type": "code",
   "execution_count": 16,
   "id": "257d32ab-021b-4ee5-9029-3f54b1bd7543",
   "metadata": {},
   "outputs": [],
   "source": [
    "web_logs_df = web_logs_df.withColumn(\"status\", col(\"status\").cast(LongType())) \\\n",
    "            .withColumn(\"size\", col(\"size\").cast(LongType()))"
   ]
  },
  {
   "cell_type": "code",
   "execution_count": 17,
   "id": "95bd824c-c65d-4ab6-af16-0d6984f2a470",
   "metadata": {},
   "outputs": [
    {
     "name": "stdout",
     "output_type": "stream",
     "text": [
      "root\n",
      " |-- client: string (nullable = true)\n",
      " |-- userid: string (nullable = true)\n",
      " |-- datetime: string (nullable = true)\n",
      " |-- method: string (nullable = true)\n",
      " |-- request: string (nullable = true)\n",
      " |-- status: long (nullable = true)\n",
      " |-- size: long (nullable = true)\n",
      " |-- referer: string (nullable = true)\n",
      " |-- user_agent: string (nullable = true)\n",
      "\n"
     ]
    }
   ],
   "source": [
    "web_logs_df.printSchema()"
   ]
  },
  {
   "cell_type": "code",
   "execution_count": 18,
   "id": "9594d42a-9551-41b9-af51-8b9328f20a4f",
   "metadata": {},
   "outputs": [
    {
     "name": "stdout",
     "output_type": "stream",
     "text": [
      "+-------------+------+--------------------+------+--------------------+------+-----+--------------------+--------------------+\n",
      "|       client|userid|            datetime|method|             request|status| size|             referer|          user_agent|\n",
      "+-------------+------+--------------------+------+--------------------+------+-----+--------------------+--------------------+\n",
      "| 54.36.149.41|     -|22/Jan/2019:03:56...|   GET|/filter/27|13%20%...|   200|30577|                   -|Mozilla/5.0 (comp...|\n",
      "|  31.56.96.51|     -|22/Jan/2019:03:56...|   GET|/image/60844/prod...|   200| 5667|https://www.zanbi...|Mozilla/5.0 (Linu...|\n",
      "|  31.56.96.51|     -|22/Jan/2019:03:56...|   GET|/image/61474/prod...|   200| 5379|https://www.zanbi...|Mozilla/5.0 (Linu...|\n",
      "|40.77.167.129|     -|22/Jan/2019:03:56...|   GET|/image/14925/prod...|   200| 1696|                   -|Mozilla/5.0 (comp...|\n",
      "|  91.99.72.15|     -|22/Jan/2019:03:56...|   GET|/product/31893/62...|   200|41483|                   -|Mozilla/5.0 (Wind...|\n",
      "|40.77.167.129|     -|22/Jan/2019:03:56...|   GET|/image/23488/prod...|   200| 2654|                   -|Mozilla/5.0 (comp...|\n",
      "|40.77.167.129|     -|22/Jan/2019:03:56...|   GET|/image/45437/prod...|   200| 3688|                   -|Mozilla/5.0 (comp...|\n",
      "|40.77.167.129|     -|22/Jan/2019:03:56...|   GET|/image/576/articl...|   200|14776|                   -|Mozilla/5.0 (comp...|\n",
      "|66.249.66.194|     -|22/Jan/2019:03:56...|   GET|/filter/b41,b665,...|   200|34277|                   -|Mozilla/5.0 (comp...|\n",
      "|40.77.167.129|     -|22/Jan/2019:03:56...|   GET|/image/57710/prod...|   200| 1695|                   -|Mozilla/5.0 (comp...|\n",
      "|207.46.13.136|     -|22/Jan/2019:03:56...|   GET|      /product/10214|   200|39677|                   -|Mozilla/5.0 (comp...|\n",
      "|40.77.167.129|     -|22/Jan/2019:03:56...|   GET|/image/578/articl...|   200| 9831|                   -|Mozilla/5.0 (comp...|\n",
      "|178.253.33.51|     -|22/Jan/2019:03:56...|   GET|/m/product/32574/...|   200|20406|https://www.zanbi...|Mozilla/5.0 (Linu...|\n",
      "|40.77.167.129|     -|22/Jan/2019:03:56...|   GET|/image/6229/produ...|   200| 1796|                   -|Mozilla/5.0 (comp...|\n",
      "|  91.99.72.15|     -|22/Jan/2019:03:56...|   GET|/product/10075/13...|   200|41725|                   -|Mozilla/5.0 (X11;...|\n",
      "|40.77.167.129|     -|22/Jan/2019:03:56...|   GET|/image/6229/produ...|   200| 2739|                   -|Mozilla/5.0 (comp...|\n",
      "|207.46.13.136|     -|22/Jan/2019:03:56...|   GET|      /product/14926|   404|33617|                   -|Mozilla/5.0 (comp...|\n",
      "|40.77.167.129|     -|22/Jan/2019:03:56...|   GET|/image/6248/produ...|   200| 2788|                   -|Mozilla/5.0 (comp...|\n",
      "|40.77.167.129|     -|22/Jan/2019:03:56...|   GET|/image/64815/prod...|   200| 3481|                   -|Mozilla/5.0 (comp...|\n",
      "|66.249.66.194|     -|22/Jan/2019:03:56...|   GET|     /m/filter/b2,p6|   200|19451|                   -|Mozilla/5.0 (Linu...|\n",
      "+-------------+------+--------------------+------+--------------------+------+-----+--------------------+--------------------+\n",
      "only showing top 20 rows\n",
      "\n"
     ]
    }
   ],
   "source": [
    "web_logs_df.show()"
   ]
  },
  {
   "cell_type": "code",
   "execution_count": 23,
   "id": "4710ed98-e692-448d-a1e0-a596badc0075",
   "metadata": {},
   "outputs": [
    {
     "name": "stderr",
     "output_type": "stream",
     "text": [
      "24/07/27 07:59:56 ERROR TaskSchedulerImpl: Lost executor 7 on 172.19.0.6: Command exited with code 137\n",
      "24/07/27 08:00:15 ERROR TaskSchedulerImpl: Lost executor 8 on 172.19.0.4: Command exited with code 137\n",
      "24/07/27 08:00:31 ERROR TaskSchedulerImpl: Lost executor 9 on 172.19.0.7: Command exited with code 137\n",
      "24/07/27 08:00:45 ERROR TaskSchedulerImpl: Lost executor 10 on 172.19.0.6: Command exited with code 137\n",
      "24/07/27 08:00:58 ERROR TaskSchedulerImpl: Lost executor 11 on 172.19.0.4: Command exited with code 137\n",
      "                                                                                \r"
     ]
    }
   ],
   "source": [
    "web_logs_df.write.parquet(\"/opt/workspace/access_logs/access_logs.parquet\")"
   ]
  },
  {
   "cell_type": "code",
   "execution_count": 24,
   "id": "41f6cb9b-2d83-4ae6-a81a-5a14c292fbc9",
   "metadata": {},
   "outputs": [],
   "source": [
    "t = spark.read.parquet(\"/opt/workspace/access_logs/access_logs.parquet\")"
   ]
  },
  {
   "cell_type": "code",
   "execution_count": 25,
   "id": "9ba93116-2e27-46c0-bf08-d177cddee132",
   "metadata": {},
   "outputs": [
    {
     "name": "stdout",
     "output_type": "stream",
     "text": [
      "+-------------+------+--------------------+------+--------------------+------+-----+--------------------+--------------------+\n",
      "|       client|userid|            datetime|method|             request|status| size|             referer|          user_agent|\n",
      "+-------------+------+--------------------+------+--------------------+------+-----+--------------------+--------------------+\n",
      "| 37.148.52.71|     -|25/Jan/2019:00:10...|   GET|/static/bundle-bu...|   200|55531|https://www.zanbi...|Mozilla/5.0 (Wind...|\n",
      "|   5.232.1.88|     -|25/Jan/2019:00:10...|   GET|/image/21555?name...|   200| 5452|https://www.googl...|Mozilla/5.0 (Linu...|\n",
      "|207.46.13.137|     -|25/Jan/2019:00:10...|   GET|/filter/b171,b36,...|   200|37659|                   -|Mozilla/5.0 (comp...|\n",
      "|46.224.205.67|     -|25/Jan/2019:00:10...|   GET|      /settings/logo|   200| 4120|https://www.zanbi...|Mozilla/5.0 (iPho...|\n",
      "| 37.148.52.71|     -|25/Jan/2019:00:10...|   GET|/static/images/se...|   200|  217|https://znbl.ir/s...|Mozilla/5.0 (Wind...|\n",
      "| 5.115.30.238|     -|25/Jan/2019:00:10...|   GET|/static/images/gu...|   200| 7713|https://www.zanbi...|Mozilla/5.0 (Linu...|\n",
      "| 5.115.30.238|     -|25/Jan/2019:00:10...|   GET|/static/images/gu...|   200| 6454|https://www.zanbi...|Mozilla/5.0 (Linu...|\n",
      "| 37.148.52.71|     -|25/Jan/2019:00:10...|   GET|      /settings/logo|   200| 4120|https://www.zanbi...|Mozilla/5.0 (Wind...|\n",
      "| 5.115.30.238|     -|25/Jan/2019:00:10...|   GET|/static/images/gu...|   200| 7356|https://www.zanbi...|Mozilla/5.0 (Linu...|\n",
      "| 37.148.52.71|     -|25/Jan/2019:00:10...|   GET|/static/images/ic...|   200|  393|https://znbl.ir/s...|Mozilla/5.0 (Wind...|\n",
      "| 5.115.30.238|     -|25/Jan/2019:00:10...|   GET|/static/css/font/...|   200|28536|https://www.zanbi...|Mozilla/5.0 (Linu...|\n",
      "| 5.112.23.251|     -|25/Jan/2019:00:10...|   GET|/image/29144?name...|   200| 3698|                   -|Dalvik/1.6.0 (Lin...|\n",
      "| 5.115.30.238|     -|25/Jan/2019:00:10...|   GET|/static/images/gu...|   200| 5807|https://www.zanbi...|Mozilla/5.0 (Linu...|\n",
      "| 5.115.30.238|     -|25/Jan/2019:00:10...|   GET|/static/images/gu...|   200| 6496|https://www.zanbi...|Mozilla/5.0 (Linu...|\n",
      "|46.224.205.67|     -|25/Jan/2019:00:10...|   GET|/image/61103/prod...|   200| 3881|https://www.zanbi...|Mozilla/5.0 (iPho...|\n",
      "| 37.148.52.71|     -|25/Jan/2019:00:10...|   GET|/static/images/lo...|   200| 7370|https://www.zanbi...|Mozilla/5.0 (Wind...|\n",
      "| 37.148.52.71|     -|25/Jan/2019:00:10...|   GET|/image/421/produc...|   200|11551|https://www.zanbi...|Mozilla/5.0 (Wind...|\n",
      "| 37.148.52.71|     -|25/Jan/2019:00:10...|   GET|/image/422/produc...|   200|11276|https://www.zanbi...|Mozilla/5.0 (Wind...|\n",
      "| 37.148.52.71|     -|25/Jan/2019:00:10...|   GET|/static/css/font/...|   200|28536|https://znbl.ir/s...|Mozilla/5.0 (Wind...|\n",
      "|  79.127.27.8|     -|25/Jan/2019:00:10...|   GET|/m/browse/tv-tabl...|   200|17871|https://www.googl...|Mozilla/5.0 (Linu...|\n",
      "+-------------+------+--------------------+------+--------------------+------+-----+--------------------+--------------------+\n",
      "only showing top 20 rows\n",
      "\n"
     ]
    },
    {
     "name": "stderr",
     "output_type": "stream",
     "text": [
      "                                                                                \r"
     ]
    }
   ],
   "source": [
    "t.show()"
   ]
  },
  {
   "cell_type": "code",
   "execution_count": 27,
   "id": "90962d07-746d-47a9-8bcf-4686fd09e358",
   "metadata": {},
   "outputs": [
    {
     "name": "stdout",
     "output_type": "stream",
     "text": [
      "273M\t/opt/workspace/access_logs/access_logs.parquet/\n"
     ]
    }
   ],
   "source": [
    "! du -h /opt/workspace/access_logs/access_logs.parquet/"
   ]
  },
  {
   "cell_type": "code",
   "execution_count": null,
   "id": "fe6df514-4df9-4c81-afe2-dc583c8c3fae",
   "metadata": {},
   "outputs": [],
   "source": []
  }
 ],
 "metadata": {
  "kernelspec": {
   "display_name": "Python 3 (ipykernel)",
   "language": "python",
   "name": "python3"
  },
  "language_info": {
   "codemirror_mode": {
    "name": "ipython",
    "version": 3
   },
   "file_extension": ".py",
   "mimetype": "text/x-python",
   "name": "python",
   "nbconvert_exporter": "python",
   "pygments_lexer": "ipython3",
   "version": "3.10.14"
  }
 },
 "nbformat": 4,
 "nbformat_minor": 5
}
