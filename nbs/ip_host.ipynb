{
 "cells": [
  {
   "cell_type": "code",
   "execution_count": 1,
   "id": "51498478-6c57-466c-924b-a66015cef612",
   "metadata": {},
   "outputs": [],
   "source": [
    "from warcio.recordloader import ArcWarcRecord"
   ]
  },
  {
   "cell_type": "code",
   "execution_count": 2,
   "id": "371e52f9-fc30-4149-b91c-b08255022e84",
   "metadata": {},
   "outputs": [],
   "source": [
    "from warcio.archiveiterator import ArchiveIterator\n",
    "import os\n",
    "import gzip\n",
    "import shutil\n",
    "from urllib.parse import urlparse\n",
    "from urllib.request import urlretrieve\n",
    "from pyspark.sql.types import StructType, StructField, StringType"
   ]
  },
  {
   "cell_type": "code",
   "execution_count": 3,
   "id": "f58aefe4-61cb-48c5-b635-194dbe6c45f6",
   "metadata": {},
   "outputs": [
    {
     "name": "stderr",
     "output_type": "stream",
     "text": [
      "Setting default log level to \"WARN\".\n",
      "To adjust logging level use sc.setLogLevel(newLevel). For SparkR, use setLogLevel(newLevel).\n",
      "24/07/27 13:41:13 WARN NativeCodeLoader: Unable to load native-hadoop library for your platform... using builtin-java classes where applicable\n"
     ]
    }
   ],
   "source": [
    "from pyspark.sql import SparkSession\n",
    "\n",
    "spark = SparkSession.builder \\\n",
    ".master(\"spark://spark-master:7077\") \\\n",
    ".config(\"spark.executor.memory\", \"2g\") \\\n",
    ".config(\"spark.executor.instances\", \"6\") \\\n",
    ".config(\"spark.executor.cores\", \"2\") \\\n",
    ".config(\"spark.driver.memory\", \"4g\") \\\n",
    ".getOrCreate()\n",
    "\n",
    "spark.sparkContext.setLogLevel(\"ERROR\")"
   ]
  },
  {
   "cell_type": "code",
   "execution_count": 4,
   "id": "910d414f-9274-45ae-bd15-1e1a06fb32dc",
   "metadata": {},
   "outputs": [],
   "source": [
    "# Downloads sample warc file and extracts it if not already available\n",
    "\n",
    "warc_url = \"https://data.commoncrawl.org/crawl-data/CC-MAIN-2017-13/segments/1490218186353.38/warc/CC-MAIN-20170322212946-00000-ip-10-233-31-227.ec2.internal.warc.gz\"\n",
    "warcgz_filepath = \"CC-MAIN-20170322212946-00000-ip-10-233-31-227.ec2.internal.warc.gz\"\n",
    "warc_filepath = \".\".join(warcgz_filepath.split(\".\")[:-1])\n",
    "\n",
    "if not os.path.isfile(warc_filepath):\n",
    "    _, _ = urlretrieve(warc_url, warcgz_filepath)\n",
    "    with gzip.open(warcgz_filepath, 'rb') as f_in:\n",
    "        with open(warc_filepath, 'wb') as f_out:\n",
    "            shutil.copyfileobj(f_in, f_out)\n",
    "\n",
    "    os.remove(warcgz_filepath)"
   ]
  },
  {
   "cell_type": "code",
   "execution_count": 5,
   "id": "5797ae7e-93e7-476e-b1ee-5acfc26a1e57",
   "metadata": {
    "scrolled": true
   },
   "outputs": [
    {
     "name": "stdout",
     "output_type": "stream",
     "text": [
      "{'warcinfo', 'request', 'metadata', 'response'} {'application/warc-fields', 'application/http; msgtype=request', 'application/http; msgtype=response'}\n"
     ]
    }
   ],
   "source": [
    "types = set()\n",
    "ctypes = set()\n",
    "with open(warc_filepath, 'rb') as stream:\n",
    "    for i,record in enumerate(ArchiveIterator(stream)):\n",
    "        types.add(record.rec_type)\n",
    "        ctypes.add(record.content_type)\n",
    "\n",
    "print(types, ctypes)"
   ]
  },
  {
   "cell_type": "code",
   "execution_count": 6,
   "id": "061f5bf3-7fe1-44ff-8100-3e18aa6092dd",
   "metadata": {
    "scrolled": true
   },
   "outputs": [
    {
     "name": "stdout",
     "output_type": "stream",
     "text": [
      "WARC/1.0\n",
      "WARC-Type: response\n",
      "WARC-Date: 2017-03-22T22:16:45Z\n",
      "WARC-Record-ID: <urn:uuid:1eba28d7-5c50-4520-a58b-b18bb9691201>\n",
      "Content-Length: 36415\n",
      "Content-Type: application/http; msgtype=response\n",
      "WARC-Warcinfo-ID: <urn:uuid:c9737a57-b812-4c1c-b82c-66f820799890>\n",
      "WARC-Concurrent-To: <urn:uuid:b0f277a6-5b6a-45dc-a17a-dbf2bd24f959>\n",
      "WARC-IP-Address: 104.244.98.64\n",
      "WARC-Target-URI: http://00ena00.blog.fc2.com/?tag=SL\n",
      "WARC-Payload-Digest: sha1:W2ZCZ4N7UPYD3SIOVWQQVJ7RVIEJNQ6A\n",
      "WARC-Block-Digest: sha1:OCC7ULZJRWXPVVMQNRLNOQ7KY5BH46HQ\n",
      "\n"
     ]
    }
   ],
   "source": [
    "temp_record = None\n",
    "with open(warc_filepath, 'rb') as stream:\n",
    "    for i,record in enumerate(ArchiveIterator(stream)):\n",
    "        temp_record = record\n",
    "        if record.rec_type == \"response\":\n",
    "            print(record.rec_headers)\n",
    "            break"
   ]
  },
  {
   "cell_type": "code",
   "execution_count": 7,
   "id": "11ae868d-e087-4080-bc4c-14ac4cce2e49",
   "metadata": {},
   "outputs": [],
   "source": [
    "def get_header(record: ArcWarcRecord, header: str):\n",
    "    \"\"\"Utility function to get header\"\"\"\n",
    "    return record.rec_headers.get_header(header, \"na\")\n",
    "\n",
    "ip = get_header(temp_record, \"WARC-IP-Address\")\n",
    "url = get_header(temp_record, \"WARC-Target-URI\")"
   ]
  },
  {
   "cell_type": "code",
   "execution_count": 8,
   "id": "5e272a9f-758b-41b1-8f11-878767f4b204",
   "metadata": {},
   "outputs": [
    {
     "data": {
      "text/plain": [
       "('104.244.98.64', 'http://00ena00.blog.fc2.com/?tag=SL')"
      ]
     },
     "execution_count": 8,
     "metadata": {},
     "output_type": "execute_result"
    }
   ],
   "source": [
    "ip, url"
   ]
  },
  {
   "cell_type": "code",
   "execution_count": 9,
   "id": "085b270a-4e4e-4adc-9ade-4812e4471d90",
   "metadata": {},
   "outputs": [
    {
     "data": {
      "text/plain": [
       "'00ena00.blog.fc2.com'"
      ]
     },
     "execution_count": 9,
     "metadata": {},
     "output_type": "execute_result"
    }
   ],
   "source": [
    "urlparse(url).hostname"
   ]
  },
  {
   "cell_type": "code",
   "execution_count": 10,
   "id": "44b8cfbc-63f7-4ded-be5e-cf3df78d12b1",
   "metadata": {},
   "outputs": [],
   "source": [
    "def process_record(record):\n",
    "    \"\"\"Get ip and url headers\"\"\"\n",
    "    ip = get_header(record, \"WARC-IP-Address\")\n",
    "    url = get_header(record, \"WARC-Target-URI\")\n",
    "    return ip, url\n",
    "\n",
    "def process_warc(filepath):\n",
    "    \"\"\"Yield tuple containing ip, url if record is of response type\"\"\"\n",
    "    with open(filepath, 'rb') as stream:\n",
    "        for record in ArchiveIterator(stream):\n",
    "            if record.rec_type == \"response\":\n",
    "                res = process_record(record)\n",
    "                yield res\n",
    "\n",
    "def proc_wrapper(_id, iterator):\n",
    "    \"\"\"Wrapper function for `process_warp` to handle multiple `warc` files\"\"\"\n",
    "    for filepath in iterator:\n",
    "        for res in process_warc(filepath):\n",
    "            yield res"
   ]
  },
  {
   "cell_type": "code",
   "execution_count": 11,
   "id": "c247480e-610f-4f71-991c-5e978e2c742d",
   "metadata": {},
   "outputs": [],
   "source": [
    "output_schema = StructType([\n",
    "    StructField(\"ip\", StringType(), True),\n",
    "    StructField(\"host\", StringType(), True)\n",
    "])"
   ]
  },
  {
   "cell_type": "markdown",
   "id": "10f0ace9-ad1d-4088-910c-d99e52f40f7c",
   "metadata": {},
   "source": [
    "Add all `warc` files to be processed to a file named `paths.txt`."
   ]
  },
  {
   "cell_type": "code",
   "execution_count": 12,
   "id": "e1ebf1f8-37a4-4605-9cc4-a2453796d4d0",
   "metadata": {},
   "outputs": [],
   "source": [
    "inp_data = spark.sparkContext.textFile(\"paths.txt\")\n",
    "output = inp_data.mapPartitionsWithIndex(proc_wrapper)\n",
    "df = spark.createDataFrame(output, schema=output_schema)"
   ]
  },
  {
   "cell_type": "code",
   "execution_count": 13,
   "id": "a52ba91a-de39-4226-b984-5d86cb250a8d",
   "metadata": {},
   "outputs": [
    {
     "name": "stderr",
     "output_type": "stream",
     "text": [
      "                                                                                \r"
     ]
    },
    {
     "name": "stdout",
     "output_type": "stream",
     "text": [
      "+---------------+--------------------+\n",
      "|             ip|                host|\n",
      "+---------------+--------------------+\n",
      "|  104.244.98.64|http://00ena00.bl...|\n",
      "|  104.244.98.63|http://00pon00.bl...|\n",
      "|  104.244.98.65|http://00pon00.bl...|\n",
      "|136.243.111.229|http://03online.c...|\n",
      "|136.243.111.229|http://03online.c...|\n",
      "|136.243.111.229|http://03online.c...|\n",
      "|136.243.111.229|http://03online.c...|\n",
      "|136.243.111.229|http://03online.c...|\n",
      "|  213.155.18.48|http://08.od.ua/n...|\n",
      "|  213.155.18.48|http://08.od.ua/o...|\n",
      "|  213.155.18.48|http://08.od.ua/p...|\n",
      "|  213.155.18.48|http://08.od.ua/s...|\n",
      "|  104.244.98.62|http://09pilgrim....|\n",
      "|  172.217.7.193|http://0baby.blog...|\n",
      "| 138.201.16.125|http://0lik.ru/cl...|\n",
      "| 138.201.16.125|http://0lik.ru/cl...|\n",
      "| 138.201.16.125|http://0lik.ru/te...|\n",
      "| 138.201.16.125|http://0lik.ru/te...|\n",
      "|  185.103.37.43|http://1000seeds....|\n",
      "|   185.99.11.75|http://1001.ru/ar...|\n",
      "+---------------+--------------------+\n",
      "only showing top 20 rows\n",
      "\n"
     ]
    }
   ],
   "source": [
    "df.show()"
   ]
  },
  {
   "cell_type": "code",
   "execution_count": 14,
   "id": "31ba2bf1-1869-44d6-b761-1cf54030dc92",
   "metadata": {},
   "outputs": [
    {
     "name": "stderr",
     "output_type": "stream",
     "text": [
      "                                                                                \r"
     ]
    },
    {
     "data": {
      "text/plain": [
       "46288"
      ]
     },
     "execution_count": 14,
     "metadata": {},
     "output_type": "execute_result"
    }
   ],
   "source": [
    "df.count()"
   ]
  },
  {
   "cell_type": "code",
   "execution_count": 15,
   "id": "4da2ba55-5b2e-4c41-9a85-29dcea8f6687",
   "metadata": {},
   "outputs": [
    {
     "name": "stderr",
     "output_type": "stream",
     "text": [
      "                                                                                \r"
     ]
    }
   ],
   "source": [
    "df.write.parquet(\"/opt/workspace/warc_data/ip_host.parquet\")"
   ]
  },
  {
   "cell_type": "code",
   "execution_count": 16,
   "id": "cf09875a-3b9b-41e7-9302-a4d015dc0fba",
   "metadata": {},
   "outputs": [
    {
     "name": "stdout",
     "output_type": "stream",
     "text": [
      "2.5M\t/opt/workspace/warc_data/ip_host.parquet/\n"
     ]
    }
   ],
   "source": [
    "! du -h /opt/workspace/warc_data/ip_host.parquet/"
   ]
  }
 ],
 "metadata": {
  "kernelspec": {
   "display_name": "Python 3 (ipykernel)",
   "language": "python",
   "name": "python3"
  },
  "language_info": {
   "codemirror_mode": {
    "name": "ipython",
    "version": 3
   },
   "file_extension": ".py",
   "mimetype": "text/x-python",
   "name": "python",
   "nbconvert_exporter": "python",
   "pygments_lexer": "ipython3",
   "version": "3.10.14"
  }
 },
 "nbformat": 4,
 "nbformat_minor": 5
}
